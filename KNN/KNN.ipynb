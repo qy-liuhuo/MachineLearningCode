{
 "cells": [
  {
   "cell_type": "code",
   "execution_count": 1,
   "metadata": {},
   "outputs": [],
   "source": [
    "\n",
    "\"\"\"\n",
    "用途：教学\n",
    "sqx\n",
    "\n",
    "\"\"\"\n",
    "\n",
    "\"\"\"\n",
    "函数说明：装载数据集\n",
    "\n",
    "Parameters:\n",
    "      fileName - 文件名\n",
    "    \n",
    "Returns:\n",
    "    group - 数据集\n",
    "    labels - 分类标签\n",
    "\n",
    "\"\"\"\n",
    "\n",
    "\n",
    "def loadDataSet(fileName):\n",
    "    # 数据矩阵\n",
    "    group = []\n",
    "    # 标签向量\n",
    "    labels = []\n",
    "    # 打开文件\n",
    "    fr = open(fileName)\n",
    "    # 逐行读取\n",
    "    for line in fr.readlines():\n",
    "        # 去掉每一行首尾的空白符，例如'\\n','\\r','\\t',' '\n",
    "        # 将每一行内容根据'\\t'符进行切片\n",
    "        lineArr = line.strip().split('\\t')\n",
    "        # 添加数据(100个元素排成一行)\n",
    "        group.append([float(lineArr[0]), float(lineArr[1])])\n",
    "        # 添加标签(100个元素排成一行)\n",
    "        labels.append(float(lineArr[2]))\n",
    "    return group, labels\n"
   ]
  },
  {
   "cell_type": "code",
   "execution_count": 2,
   "metadata": {},
   "outputs": [],
   "source": [
    "\"\"\"\n",
    "函数说明：曼哈顿距离求解\n",
    "\n",
    "Parameters:\n",
    "\tx1 - 向量1\n",
    "\tx2 - 向量2\n",
    "    \n",
    "Returns:\n",
    "    dist - x1与x2间的曼哈顿距离\n",
    "\n",
    "\"\"\"\n",
    "\n",
    "\n",
    "def distManhattan(x1, x2):\n",
    "    dist=0;\n",
    "    for i in range(len(x1)):\n",
    "        dist+=abs(x1[i]-x2[i])\n",
    "    return dist\n",
    "\n",
    "\n"
   ]
  },
  {
   "cell_type": "code",
   "execution_count": 3,
   "metadata": {},
   "outputs": [],
   "source": [
    "\"\"\"\n",
    "\n",
    "函数说明：kNN算法，分类器\n",
    "\n",
    "Parameters:\n",
    "    inX - 用于分类的数据（测试集）\n",
    "    dataSet - 用于训练的样本特征（训练集）\n",
    "    labels - 分类标准\n",
    "    k - kNN算法参数，选择距离最小的k个点\n",
    "    \n",
    "Returns:\n",
    "    predClass - 分类结果\n",
    "    \n",
    "\n",
    "\"\"\"\n",
    "\n",
    "\n",
    "def classifyKNN(inX, dataSet, labels, k):\n",
    "    l=[];\n",
    "    for i in range(len(dataSet)):\n",
    "        l.append((distManhattan(inX,dataSet[i]),i))\n",
    "    l.sort()\n",
    "    yes=0\n",
    "    for i in range(k):\n",
    "        if labels[l[i][1]]==1 :\n",
    "            yes+=1\n",
    "    \n",
    "    return yes>=k/2\n"
   ]
  },
  {
   "cell_type": "code",
   "execution_count": 4,
   "metadata": {},
   "outputs": [
    {
     "name": "stdout",
     "output_type": "stream",
     "text": [
      "True\n"
     ]
    }
   ],
   "source": [
    "\n",
    "def main():\n",
    "    group,labels=loadDataSet(\"./TrainingSet.txt\")\n",
    "    # 设置测试数据test\n",
    "    test_class = classifyKNN([0.45,0.1], group, labels, 3)\n",
    "    # 打印预测结果\n",
    "    print(test_class)\n",
    "if __name__ == '__main__':\n",
    "    main()\n"
   ]
  }
 ],
 "metadata": {
  "interpreter": {
   "hash": "865d8b2eb28e274047ba64063dfb6a2aabf0dfec4905d304d7a76618dae6fdd4"
  },
  "kernelspec": {
   "display_name": "Python 3.8.5 ('base')",
   "language": "python",
   "name": "python3"
  },
  "language_info": {
   "codemirror_mode": {
    "name": "ipython",
    "version": 3
   },
   "file_extension": ".py",
   "mimetype": "text/x-python",
   "name": "python",
   "nbconvert_exporter": "python",
   "pygments_lexer": "ipython3",
   "version": "3.8.5"
  },
  "orig_nbformat": 4
 },
 "nbformat": 4,
 "nbformat_minor": 2
}
